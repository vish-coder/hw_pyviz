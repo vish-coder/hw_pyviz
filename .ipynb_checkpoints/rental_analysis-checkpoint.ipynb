{
 "cells": [
  {
   "cell_type": "markdown",
   "metadata": {},
   "source": [
    "# Toronto Dwellings Analysis\n",
    "\n",
    "In this assignment, you will perform fundamental analysis for the Toronto dwellings market to allow potential real estate investors to choose rental investment properties."
   ]
  },
  {
   "cell_type": "code",
   "execution_count": null,
   "metadata": {},
   "outputs": [],
   "source": [
    "# # imports\n",
    "# import panel as pn\n",
    "# pn.extension('plotly')\n",
    "# import pandas as pd\n",
    "# from panel.interact import interact\n",
    "# from panel import widgets\n",
    "# import plotly.express as px\n",
    "# #import holoviews as hv\n",
    "# import hvplot.pandas\n",
    "# import hvplot.dask\n",
    "# #from holoviews.operation.datashader import datashade, rasterize, dynspread\n",
    "# #from datashader import reductions\n",
    "# #import matplotlib.pyplot as plt\n",
    "# import os\n",
    "# from pathlib import Path\n",
    "# from dotenv import load_dotenv"
   ]
  },
  {
   "cell_type": "code",
   "execution_count": null,
   "metadata": {},
   "outputs": [],
   "source": [
    "# imports\n",
    "import panel as pn\n",
    "pn.extension('plotly')\n",
    "import plotly.express as px\n",
    "import pandas as pd\n",
    "import hvplot.pandas\n",
    "import matplotlib.pyplot as plt\n",
    "import os\n",
    "from pathlib import Path\n",
    "from dotenv import load_dotenv"
   ]
  },
  {
   "cell_type": "code",
   "execution_count": null,
   "metadata": {},
   "outputs": [],
   "source": [
    "# Read the Mapbox API key\n",
    "load_dotenv()\n",
    "map_box_api = os.getenv(\"mapbox\")\n",
    "\n",
    "\n",
    "# Set the Mapbox API\n",
    "px.set_mapbox_access_token(map_box_api)"
   ]
  },
  {
   "cell_type": "markdown",
   "metadata": {},
   "source": [
    "## Load Data"
   ]
  },
  {
   "cell_type": "code",
   "execution_count": null,
   "metadata": {},
   "outputs": [],
   "source": [
    "# Read the census data into a Pandas DataFrame\n",
    "file_path = Path(\"../data/toronto_neighbourhoods_census_data.csv\")\n",
    "census_data = pd.read_csv(file_path,index_col=\"year\")\n",
    "census_data.head()"
   ]
  },
  {
   "cell_type": "markdown",
   "metadata": {},
   "source": [
    "- - - "
   ]
  },
  {
   "cell_type": "markdown",
   "metadata": {},
   "source": [
    "## Dwelling Types Per Year\n",
    "\n",
    "In this section, you will calculate the number of dwelling types per year. Visualize the results using bar charts and the Pandas plot function. \n",
    "\n",
    "**Hint:** Use the Pandas `groupby` function.\n",
    "\n",
    "**Optional challenge:** Plot each bar chart in a different color."
   ]
  },
  {
   "cell_type": "code",
   "execution_count": null,
   "metadata": {},
   "outputs": [],
   "source": [
    "# Calculate the sum number of dwelling types units per year (hint: use groupby)\n",
    "# YOUR CODE HERE!\n",
    "dt_only_data = census_data.loc[:,'single_detached_house':'other_house']\n",
    "dt_only_data.head()"
   ]
  },
  {
   "cell_type": "code",
   "execution_count": null,
   "metadata": {},
   "outputs": [],
   "source": [
    "dt_per_year= dt_only_data.groupby('year').sum()"
   ]
  },
  {
   "cell_type": "code",
   "execution_count": null,
   "metadata": {},
   "outputs": [],
   "source": [
    "# Helper create_bar_chart function\n",
    "# def create_bar_chart(data,ttl,clr,ht,wd,xl,yl):\n",
    "     \n",
    "#     plt=data.hvplot.bar(title=ttl,color=clr,height=ht,width=wd,xlabel=xl,ylabel=yl,rot=90,yformatter='%f')\n",
    "#     return plt\n",
    "\n",
    "# dt_per_yearplt=create_bar_chart(dt_per_year,'Dwelling Types per year',\"skyblue\",800,1400,\"Dwelling Types\",\"Number\")\n",
    "# dt_per_yearplt\n",
    "#df_dwelling_types = census_data_sum.drop(columns=[\"average_house_value\",\"shelter_costs_owned\",\"shelter_costs_rented\"])"
   ]
  },
  {
   "cell_type": "code",
   "execution_count": null,
   "metadata": {},
   "outputs": [],
   "source": [
    "# Save the dataframe as a csv file\n",
    "to_csv = dt_per_year.to_csv(path_or_buf=\"../data/grouped_data_from_df.csv\")"
   ]
  },
  {
   "cell_type": "code",
   "execution_count": null,
   "metadata": {},
   "outputs": [],
   "source": [
    "# Helper create_bar_chart function\n",
    "def create_bar_chart(data,ttl,clr,ht,wd,xl,yl,rt,bgbg):\n",
    "     \n",
    "    plt=data.hvplot.bar(title=ttl,color=clr,height=ht,width=wd,xlabel=xl,ylabel=yl,rot=rt,yformatter='%f').opts(bgcolor=bgbg)\n",
    "    return plt"
   ]
  },
  {
   "cell_type": "code",
   "execution_count": null,
   "metadata": {},
   "outputs": [],
   "source": [
    "# Create a bar chart per year to show the number of dwelling types\n",
    "# Bar chart for 2001\n",
    "bar2001=create_bar_chart(dt_per_year.loc[2001],\n",
    "                         '2001 Census of Dwelling types',\n",
    "                         \"red\",450,450,\"Dwelling Types\",\n",
    "                         \"Number of dwelling types in this year\",\n",
    "                         90,\"lightblue\")\n",
    "# Bar chart for 2006\n",
    "bar2006=create_bar_chart(dt_per_year.loc[2006],\n",
    "                         '2006 Census of Dwelling types',\n",
    "                         \"yellow\",450,450,\n",
    "                         \"Dwelling Types\",\n",
    "                         \"Number of dwelling types in this year\",\n",
    "                         90,\"lightsteelblue\")\n",
    "# Bar chart for 2011\n",
    "bar2011=create_bar_chart(dt_per_year.loc[2011],\n",
    "                         '2011 Census of Dwelling types',\n",
    "                         \"blue\",450,450,\n",
    "                         \"Dwelling Types\",\n",
    "                         \"Number of dwelling types in this year\",\n",
    "                         90,\"lightsteelblue\") \n",
    "\n",
    "# Bar chart for 2016\n",
    "bar2016=create_bar_chart(dt_per_year.loc[2016],\n",
    "                         '2016 Census of Dwelling types',\n",
    "                         \"lawngreen\",450,450,\"Dwelling Types\",\n",
    "                         \"Number of dwelling types in this year\",\n",
    "                         90,\"lightsteelblue\") \n",
    "# All the beautiful charts in beautiful colors and labels and what not\n",
    "bar2001 + bar2006 + bar2011 + bar2016"
   ]
  },
  {
   "cell_type": "markdown",
   "metadata": {},
   "source": [
    "- - - "
   ]
  },
  {
   "cell_type": "markdown",
   "metadata": {},
   "source": [
    "## Average Monthly Shelter Costs in Toronto Per Year\n",
    "\n",
    "In this section, you will calculate the average monthly shelter costs for owned and rented dwellings and the average house value for each year. Plot the results as a line chart.\n",
    "\n",
    "**Optional challenge:** Plot each line chart in a different color."
   ]
  },
  {
   "cell_type": "code",
   "execution_count": null,
   "metadata": {},
   "outputs": [],
   "source": [
    "# Calculate the average monthly shelter costs for owned and rented dwellings\n",
    "# YOUR CODE HERE!\n",
    "#census_data.head()\n",
    "avg_monthly_owned = census_data.groupby('year')['shelter_costs_owned'].mean()/12\n",
    "avg_monthly_rented = census_data.groupby('year')['shelter_costs_rented'].mean()/12"
   ]
  },
  {
   "cell_type": "code",
   "execution_count": null,
   "metadata": {},
   "outputs": [],
   "source": [
    "avg_monthly_owned = census_data.groupby('year')['shelter_costs_owned'].mean()/12\n",
    "avg_monthly_owned"
   ]
  },
  {
   "cell_type": "code",
   "execution_count": null,
   "metadata": {},
   "outputs": [],
   "source": [
    "avg_monthly_rented = census_data.groupby('year')['shelter_costs_rented'].mean()/12\n",
    "avg_monthly_rented"
   ]
  },
  {
   "cell_type": "code",
   "execution_count": null,
   "metadata": {},
   "outputs": [],
   "source": [
    "# Helper create_line_chart function\n",
    "def create_line_chart(data,ttl,xaxis,clr,bgbg):\n",
    "    plt=data.hvplot.line(title=ttl,x=xaxis,color=clr,yformatter='%f').opts(bgcolor=bgbg,height=400,width=400)\n",
    "    return plt"
   ]
  },
  {
   "cell_type": "code",
   "execution_count": null,
   "metadata": {},
   "outputs": [],
   "source": [
    "# Create two line charts, one to plot the monthly shelter costs for owned dwelleing and other for rented dwellings per year\n",
    "# Line chart for owned dwellings\n",
    "line_chart_average_owned_cost=create_line_chart(avg_monthly_owned,\n",
    "                                                'Avg. Monthly Costs Owned in Toronto',\n",
    "                                                'year',\"red\",'lightgreen')\n",
    "# Line chart for rented dwellings\n",
    "line_chart_average_rented_cost=create_line_chart(avg_monthly_rented,\n",
    "                                                 'Avg. Monthly Costs Rented in Toronto',\n",
    "                                                 'year',\"brown\",'lightblue')\n",
    "line_chart_average_owned_cost + line_chart_average_rented_cost"
   ]
  },
  {
   "cell_type": "markdown",
   "metadata": {},
   "source": [
    "## Average House Value per Year\n",
    "\n",
    "In this section, you want to determine the average house value per year. An investor may want to understand better the sales price of the rental property over time. For example, a customer will want to know if they should expect an increase or decrease in the property value over time so they can determine how long to hold the rental property. You will visualize the `average_house_value` per year as a bar chart."
   ]
  },
  {
   "cell_type": "code",
   "execution_count": null,
   "metadata": {},
   "outputs": [],
   "source": [
    "# Calculate the average house value per year\n",
    "avg_houseval_peryear=round(census_data.groupby('year')['average_house_value'].mean(),2)\n",
    "avg_houseval_peryear"
   ]
  },
  {
   "cell_type": "code",
   "execution_count": null,
   "metadata": {},
   "outputs": [],
   "source": [
    "# Plot the average house value per year as a line chart\n",
    "line_chart_average_house_value=create_line_chart(avg_houseval_peryear,'Avg. Value in Toronto',\n",
    "                                                 'year',\"cadetblue\",'khaki')\n",
    "line_chart_average_house_value"
   ]
  },
  {
   "cell_type": "markdown",
   "metadata": {},
   "source": [
    "- - - "
   ]
  },
  {
   "cell_type": "markdown",
   "metadata": {},
   "source": [
    "## Average House Value by Neighbourhood\n",
    "\n",
    "In this section, you will use `hvplot` to create an interactive visualization of the average house value with a dropdown selector for the neighbourhood.\n",
    "\n",
    "**Hint:** It will be easier to create a new DataFrame from grouping the data and calculating the mean house values for each year and neighbourhood."
   ]
  },
  {
   "cell_type": "code",
   "execution_count": null,
   "metadata": {},
   "outputs": [],
   "source": [
    "# Create a new DataFrame with the mean house values by neighbourhood per year\n",
    "avg_hsval_bynbhood=pd.DataFrame()\n",
    "avg_hsval_bynbhood=census_data[['neighbourhood','average_house_value']]"
   ]
  },
  {
   "cell_type": "code",
   "execution_count": null,
   "metadata": {},
   "outputs": [],
   "source": [
    "# Use hvplot to create an interactive line chart of the average house value per neighbourhood\n",
    "# The plot should have a dropdown selector for the neighbourhood\n",
    "def line_chart_with_dropdown_selector(data,xval,grpval,clr,bgbg):\n",
    "    plt=data.hvplot.line(x=xval,groupby=grpval,color=clr,\n",
    "                         yformatter='$%f',colorbar=True).opts(framewise=True,bgcolor=bgbg)\n",
    "    return plt"
   ]
  },
  {
   "cell_type": "code",
   "execution_count": null,
   "metadata": {},
   "outputs": [],
   "source": [
    "linechart_avghouseval=line_chart_with_dropdown_selector(avg_hsval_bynbhood,'year',\n",
    "                                                        'neighbourhood',\"slateblue\",\"ghostwhite\")\n",
    "# linechart_avghouseval.yaxis.formatter=NumeralTickFormatter(format=\"00\")\n",
    "linechart_avghouseval"
   ]
  },
  {
   "cell_type": "markdown",
   "metadata": {},
   "source": [
    "## Number of Dwelling Types per Year\n",
    "\n",
    "In this section, you will use `hvplot` to create an interactive visualization of the average number of dwelling types per year with a dropdown selector for the neighbourhood."
   ]
  },
  {
   "cell_type": "code",
   "execution_count": null,
   "metadata": {},
   "outputs": [],
   "source": [
    "# Fetch the data of all dwelling types per year\n",
    "num_dwtypes_bynbhood=pd.DataFrame()\n",
    "num_dwtypes_bynbhood=census_data.loc[:,:'other_house']\n",
    "num_dwtypes_bynbhood.head()"
   ]
  },
  {
   "cell_type": "code",
   "execution_count": null,
   "metadata": {},
   "outputs": [],
   "source": [
    "# Use hvplot to create an interactive bar chart of the number of dwelling types per neighbourhood\n",
    "# Helper create_bar_chart2 function ----this is bonus that I made -Vishal\n",
    "def create_bar_chart2(data,xaxis,grp,rt,ht,wd):\n",
    "            plt=data.hvplot.bar(x=xaxis,groupby=grp,legend='top_left',rot=rt,height=ht,width=wd)\n",
    "            return plt"
   ]
  },
  {
   "cell_type": "code",
   "execution_count": null,
   "metadata": {},
   "outputs": [],
   "source": [
    "# The plot should have a dropdown selector for the neighbourhood\n",
    "barchart_dwtpes_peryr=create_bar_chart2(num_dwtypes_bynbhood,'year',\"neighbourhood\",90,700,900)\n",
    "barchart_dwtpes_peryr"
   ]
  },
  {
   "cell_type": "markdown",
   "metadata": {},
   "source": [
    "- - - "
   ]
  },
  {
   "cell_type": "markdown",
   "metadata": {},
   "source": [
    "## The Top 10 Most Expensive Neighbourhoods\n",
    "\n",
    "In this section, you will need to calculate the house value for each neighbourhood and then sort the values to obtain the top 10 most expensive neighbourhoods on average. Plot the results as a bar chart."
   ]
  },
  {
   "cell_type": "code",
   "execution_count": null,
   "metadata": {},
   "outputs": [],
   "source": [
    "# Getting the data from the top 10 expensive neighbourhoods\n",
    "top10_nbhood=pd.DataFrame()\n",
    "top10_nbhood=census_data.nlargest(10,'average_house_value')\n",
    "top10_nbhood = top10_nbhood[['neighbourhood','average_house_value']]\n",
    "top10_nbhood"
   ]
  },
  {
   "cell_type": "code",
   "execution_count": null,
   "metadata": {},
   "outputs": [],
   "source": [
    "# Plotting the data from the top 10 expensive neighbourhoods\n",
    "def create_bar_chart2(data,ttl,xaxis,yaxis,varyby,ht,wd,rt):\n",
    "     \n",
    "    plt=data.hvplot.bar(title=ttl,x=xaxis,y=yaxis,by=varyby,height=ht,width=wd,rot=rt,yformatter='$%f')\n",
    "    return plt\n",
    "\n",
    "line_chart_top10=create_bar_chart2(top10_nbhood,'Top10 neighbourhoods in Toronto',\n",
    "                                   'neighbourhood','average_house_value','year',400,1000,90)\n",
    "line_chart_top10"
   ]
  },
  {
   "cell_type": "markdown",
   "metadata": {},
   "source": [
    "- - - "
   ]
  },
  {
   "cell_type": "markdown",
   "metadata": {},
   "source": [
    "## Neighbourhood Map\n",
    "\n",
    "In this section, you will read in neighbourhoods location data and build an interactive map with the average house value per neighbourhood. Use a `scatter_mapbox` from Plotly express to create the visualization. Remember, you will need your Mapbox API key for this."
   ]
  },
  {
   "cell_type": "markdown",
   "metadata": {},
   "source": [
    "### Load Location Data"
   ]
  },
  {
   "cell_type": "code",
   "execution_count": null,
   "metadata": {},
   "outputs": [],
   "source": [
    "# Load neighbourhoods coordinates data\n",
    "file_path = Path(\"../data/toronto_neighbourhoods_coordinates.csv\")\n",
    "df_neighbourhood_locations = pd.read_csv(file_path)\n",
    "df_neighbourhood_locations.head()"
   ]
  },
  {
   "cell_type": "markdown",
   "metadata": {},
   "source": [
    "### Data Preparation\n",
    "\n",
    "You will need to join the location data with the mean values per neighbourhood.\n",
    "\n",
    "1. Calculate the mean values for each neighbourhood.\n",
    "\n",
    "2. Join the average values with the neighbourhood locations."
   ]
  },
  {
   "cell_type": "code",
   "execution_count": null,
   "metadata": {},
   "outputs": [],
   "source": [
    "# Calculate the mean values for each neighborhood\n",
    "avg_hsval_bynbhood.head()"
   ]
  },
  {
   "cell_type": "code",
   "execution_count": null,
   "metadata": {},
   "outputs": [],
   "source": [
    "# Join the average values with the neighbourhood locations\n",
    "nbhood_locs= avg_hsval_bynbhood.join(df_neighbourhood_locations.set_index('neighbourhood'),on='neighbourhood')\n",
    "nbhood_locs.head()"
   ]
  },
  {
   "cell_type": "markdown",
   "metadata": {},
   "source": [
    "### Mapbox Visualization\n",
    "\n",
    "Plot the average values per neighbourhood using a Plotly express `scatter_mapbox` visualization."
   ]
  },
  {
   "cell_type": "code",
   "execution_count": null,
   "metadata": {},
   "outputs": [],
   "source": [
    "# Create a scatter mapbox to analyze neighbourhood info\n",
    "map = px.scatter_mapbox(\n",
    "    nbhood_locs,\n",
    "    lat=\"lat\",\n",
    "    lon=\"lon\",\n",
    "    size=\"average_house_value\",\n",
    "    color=\"neighbourhood\",\n",
    "    zoom=9,width=1000,height=450\n",
    ")\n",
    "map.show()"
   ]
  },
  {
   "cell_type": "markdown",
   "metadata": {},
   "source": [
    "- - -"
   ]
  },
  {
   "cell_type": "markdown",
   "metadata": {},
   "source": [
    "## Cost Analysis - Optional Challenge\n",
    "\n",
    "In this section, you will use Plotly express to a couple of plots that investors can interactively filter and explore various factors related to the house value of the Toronto's neighbourhoods. \n",
    "\n",
    "### Create a bar chart row facet to plot the average house values for all Toronto's neighbourhoods per year"
   ]
  },
  {
   "cell_type": "code",
   "execution_count": null,
   "metadata": {},
   "outputs": [],
   "source": [
    "nbhood_data = avg_hsval_bynbhood.reset_index()\n",
    "#facet_data\n",
    "fig = px.bar(nbhood_data,x=\"neighbourhood\",y=\"average_house_value\",facet_row=\"year\",height=1000)\n",
    "fig.show()"
   ]
  },
  {
   "cell_type": "markdown",
   "metadata": {},
   "source": [
    "### Create a sunburst chart to conduct a costs analysis of most expensive neighbourhoods in Toronto per year"
   ]
  },
  {
   "cell_type": "code",
   "execution_count": null,
   "metadata": {},
   "outputs": [],
   "source": [
    "# Fetch the data from all expensive neighbourhoods per year.\n",
    "# top20_nbhood=census_data.nlargest(20,'average_house_value')\n",
    "top10_nbhood.head()"
   ]
  },
  {
   "cell_type": "code",
   "execution_count": null,
   "metadata": {},
   "outputs": [],
   "source": [
    "fig = px.sunburst(top10_nbhood,path=['year','neighbourhood'],values='average_house_value',color='year')\n",
    "fig.show()"
   ]
  },
  {
   "cell_type": "code",
   "execution_count": null,
   "metadata": {},
   "outputs": [],
   "source": []
  }
 ],
 "metadata": {
  "file_extension": ".py",
  "kernelspec": {
   "display_name": "Python 3",
   "language": "python",
   "name": "python3"
  },
  "language_info": {
   "codemirror_mode": {
    "name": "ipython",
    "version": 3
   },
   "file_extension": ".py",
   "mimetype": "text/x-python",
   "name": "python",
   "nbconvert_exporter": "python",
   "pygments_lexer": "ipython3",
   "version": "3.7.10"
  },
  "mimetype": "text/x-python",
  "name": "python",
  "npconvert_exporter": "python",
  "pygments_lexer": "ipython3",
  "version": 3,
  "widgets": {
   "application/vnd.jupyter.widget-state+json": {
    "state": {},
    "version_major": 2,
    "version_minor": 0
   }
  }
 },
 "nbformat": 4,
 "nbformat_minor": 4
}
